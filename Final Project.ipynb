{
 "cells": [
  {
   "cell_type": "markdown",
   "id": "491e4a3c",
   "metadata": {},
   "source": [
    "# Final Project\n",
    "Abigail Allen  \n",
    "Josh Urry  \n",
    "Trevor Jex"
   ]
  },
  {
   "cell_type": "code",
   "execution_count": null,
   "id": "2159d1ea",
   "metadata": {},
   "outputs": [],
   "source": [
    "import pandas as pd\n",
    "import numpy as np\n",
    "import matplotlib.pyplot as plt\n",
    "import seaborn as sns\n",
    "import geopandas as gpd\n",
    "import folium\n",
    "from folium.plugins import HeatMap\n",
    "%matplotlib inline\n",
    "\n",
    "from sklearn.compose import ColumnTransformer\n",
    "from sklearn.preprocessing import OneHotEncoder, StandardScaler\n",
    "from sklearn.decomposition import PCA\n",
    "from sklearn.model_selection import train_test_split\n",
    "from sklearn.metrics import mutual_info_score"
   ]
  },
  {
   "cell_type": "code",
   "execution_count": null,
   "id": "e4bfa90a",
   "metadata": {},
   "outputs": [],
   "source": [
    "# Load data\n",
    "df = pd.read_csv(\"Motor_Vehicle_Crashes_-_Case_Information__Three_Year_Window.csv\")"
   ]
  },
  {
   "cell_type": "code",
   "execution_count": null,
   "id": "022d168b",
   "metadata": {
    "scrolled": false
   },
   "outputs": [],
   "source": [
    "df.head()"
   ]
  },
  {
   "cell_type": "code",
   "execution_count": null,
   "id": "93c44d5e",
   "metadata": {},
   "outputs": [],
   "source": [
    "# Check number of samples\n",
    "len(df)"
   ]
  },
  {
   "cell_type": "markdown",
   "id": "f2ec7557",
   "metadata": {},
   "source": [
    "## Preprocessing"
   ]
  },
  {
   "cell_type": "code",
   "execution_count": null,
   "id": "322768d8",
   "metadata": {},
   "outputs": [],
   "source": [
    "# Check NA values\n",
    "df.isna().sum()"
   ]
  },
  {
   "cell_type": "markdown",
   "id": "c3eaab93",
   "metadata": {},
   "source": [
    "Let's drop the \"DOT Reference Marker Location\" variable, since the majority of accidents have this missing. Maybe we could just remove the rows where the Municipality is blank. Or just drop it as well and just use the County."
   ]
  },
  {
   "cell_type": "code",
   "execution_count": null,
   "id": "b963d89d",
   "metadata": {},
   "outputs": [],
   "source": [
    "df.drop(\"DOT Reference Marker Location\", axis = 1, inplace = True)"
   ]
  },
  {
   "cell_type": "markdown",
   "id": "a5e969c6",
   "metadata": {},
   "source": [
    "Let's figure out how to handle the date variables."
   ]
  },
  {
   "cell_type": "code",
   "execution_count": null,
   "id": "ad50c626",
   "metadata": {},
   "outputs": [],
   "source": [
    "df.Year.unique()"
   ]
  },
  {
   "cell_type": "markdown",
   "id": "eeb35ea5",
   "metadata": {},
   "source": [
    "We could represent these as 0, 1, 2, 3, and 4 as a variable that represents \"years from 2017\", so it is numeric."
   ]
  },
  {
   "cell_type": "code",
   "execution_count": null,
   "id": "e5dbd998",
   "metadata": {},
   "outputs": [],
   "source": [
    "# It may not make a big difference if we don't do this. It makes the charts confusing so let's keep it for now.\n",
    "# df.Year.replace({2017: 0, 2018: 1, 2019: 2, 2020: 3, 2021: 4}, inplace = True)"
   ]
  },
  {
   "cell_type": "markdown",
   "id": "aeb2e72f",
   "metadata": {},
   "source": [
    "Let's convert time and date to date time objects and extract the minutes, hours, month, and day"
   ]
  },
  {
   "cell_type": "code",
   "execution_count": null,
   "id": "b6d93ce9",
   "metadata": {},
   "outputs": [
    {
     "name": "stderr",
     "output_type": "stream",
     "text": [
      "/var/folders/lh/ptq87vy13l37_4kfpj8px4mr0000gn/T/ipykernel_9984/1106775589.py:1: UserWarning: Could not infer format, so each element will be parsed individually, falling back to `dateutil`. To ensure parsing is consistent and as-expected, please specify a format.\n",
      "  df.Time = pd.to_datetime(df.Time)\n"
     ]
    }
   ],
   "source": [
    "df.Time = pd.to_datetime(df.Time)\n",
    "df.Date = pd.to_datetime(df.Date)"
   ]
  },
  {
   "cell_type": "code",
   "execution_count": null,
   "id": "70cca011",
   "metadata": {},
   "outputs": [],
   "source": [
    "df[\"month\"] = df.Date.dt.month\n",
    "df[\"day\"] = df.Date.dt.day\n",
    "df[\"hour\"] = df.Time.dt.hour\n",
    "df[\"minute\"] = df.Time.dt.minute # My guess is that we'll end up dropping this"
   ]
  },
  {
   "cell_type": "code",
   "execution_count": null,
   "id": "a0f73f5d",
   "metadata": {},
   "outputs": [],
   "source": [
    "# Drop Date and Time variables \n",
    "# df.drop([\"Date\", \"Time\"], axis = 1, inplace = True)\n",
    "df.drop([\"Date\"], axis = 1, inplace = True)"
   ]
  },
  {
   "cell_type": "code",
   "execution_count": null,
   "id": "94578ddb",
   "metadata": {},
   "outputs": [],
   "source": [
    "# Now let's convert day of the week to numeric\n",
    "df[\"Day of Week\"].replace({\"Sunday\": 0, \"Monday\": 1, \"Tuesday\": 2, \"Wednesday\": 3, \"Thursday\": 4,\n",
    "                          \"Friday\": 5, \"Saturday\": 6}, inplace = True)"
   ]
  },
  {
   "cell_type": "code",
   "execution_count": null,
   "id": "7cb2f5ab",
   "metadata": {},
   "outputs": [],
   "source": [
    "df.head()"
   ]
  },
  {
   "cell_type": "markdown",
   "id": "581f4c3d",
   "metadata": {},
   "source": [
    "Let's figure out the target variable"
   ]
  },
  {
   "cell_type": "code",
   "execution_count": null,
   "id": "ab478c93",
   "metadata": {},
   "outputs": [],
   "source": [
    "df[\"Event Descriptor\"].unique()"
   ]
  },
  {
   "cell_type": "code",
   "execution_count": null,
   "id": "f22a3abb",
   "metadata": {},
   "outputs": [],
   "source": [
    "df[\"Crash Descriptor\"].unique()"
   ]
  },
  {
   "cell_type": "markdown",
   "id": "a1b3a12c",
   "metadata": {},
   "source": [
    "We wil use the crash descriptor variable as the outcome."
   ]
  },
  {
   "cell_type": "markdown",
   "id": "397d49f4",
   "metadata": {},
   "source": [
    "## Data Visualization"
   ]
  },
  {
   "cell_type": "code",
   "execution_count": null,
   "id": "ffe78066",
   "metadata": {},
   "outputs": [],
   "source": [
    "# Lineplot of accidents over time\n",
    "df.groupby('Year')['Time'].count().plot()\n",
    "plt.xlabel('Year')\n",
    "plt.ylabel('Number of Accidents')\n",
    "plt.title('Number of Accidents over Time')\n",
    "plt.show()"
   ]
  },
  {
   "cell_type": "code",
   "execution_count": null,
   "id": "99fc5762",
   "metadata": {},
   "outputs": [],
   "source": [
    "# Barplot of accidents per year\n",
    "counts = df['Year'].value_counts().sort_index()\n",
    "counts.plot.bar()\n",
    "plt.xlabel('Year')\n",
    "plt.ylabel('Count')\n",
    "plt.title('Accidents per Year')\n",
    "plt.show()"
   ]
  },
  {
   "cell_type": "code",
   "execution_count": null,
   "id": "262953b7",
   "metadata": {},
   "outputs": [],
   "source": [
    "# Barplot of accidents per week\n",
    "counts = df['Day of Week'].value_counts().sort_index()\n",
    "counts.plot.bar()\n",
    "plt.xlabel('Week Day')\n",
    "plt.ylabel('Count')\n",
    "plt.title('Accidents per Week Day')\n",
    "plt.show()"
   ]
  },
  {
   "cell_type": "code",
   "execution_count": null,
   "id": "299fce9f",
   "metadata": {},
   "outputs": [],
   "source": [
    "# Barplot of accidents per week\n",
    "counts = df['month'].value_counts().sort_index()\n",
    "counts.plot.line()\n",
    "plt.xlabel('Month')\n",
    "plt.ylabel('Count')\n",
    "plt.title('Accidents per Month')\n",
    "plt.show()"
   ]
  },
  {
   "cell_type": "code",
   "execution_count": null,
   "id": "67ec14ad",
   "metadata": {},
   "outputs": [],
   "source": [
    "# Barplot of accidents per week, excluding 2020\n",
    "counts = df[df['Year'] != 2020]['month'].value_counts().sort_index()\n",
    "counts.plot.line()\n",
    "plt.xlabel('Month')\n",
    "plt.ylabel('Count')\n",
    "plt.title('Accidents per Month (excluding 2020)')\n",
    "plt.show()"
   ]
  },
  {
   "cell_type": "code",
   "execution_count": null,
   "id": "ce0c3561",
   "metadata": {},
   "outputs": [],
   "source": [
    "df_grouped = df.groupby('hour').count()\n",
    "plt.plot(df_grouped.index, df_grouped['Number of Vehicles Involved'])\n",
    "\n",
    "plt.xlabel('Hour of Day')\n",
    "plt.ylabel('Number of Accidents')\n",
    "plt.title('Accidents by Hour of the Day')\n",
    "plt.show()"
   ]
  },
  {
   "cell_type": "code",
   "execution_count": null,
   "id": "1e36ccd5",
   "metadata": {},
   "outputs": [],
   "source": [
    "# Barplot of top 10 accidents per county\n",
    "counts = df['County Name'].value_counts().head(10)\n",
    "counts.plot.bar()\n",
    "plt.xlabel('County')\n",
    "plt.ylabel('Count')\n",
    "plt.title('Accidents per County')\n",
    "plt.xticks(rotation=60, ha='right')\n",
    "plt.show()"
   ]
  },
  {
   "cell_type": "code",
   "execution_count": null,
   "id": "73cafa46",
   "metadata": {},
   "outputs": [],
   "source": [
    "# Barplot of top 10 event decriptors\n",
    "counts = df['Event Descriptor'].value_counts().head(10)\n",
    "counts.plot.bar()\n",
    "plt.xlabel('Event Descriptor')\n",
    "plt.ylabel('Count')\n",
    "plt.title('Event Descriptor Counts')\n",
    "plt.show()"
   ]
  },
  {
   "cell_type": "code",
   "execution_count": null,
   "id": "da9e35ba",
   "metadata": {},
   "outputs": [],
   "source": [
    "# Barplot of about of accident descriptors\n",
    "counts = df['Crash Descriptor'].value_counts()\n",
    "counts.plot.bar()\n",
    "plt.xlabel('Accident Descriptor')\n",
    "plt.ylabel('Count')\n",
    "plt.title('Accident Descriptor Counts')\n",
    "plt.xticks(rotation=45, ha='right')\n",
    "plt.show()"
   ]
  },
  {
   "cell_type": "code",
   "execution_count": null,
   "id": "3f4681e9",
   "metadata": {
    "scrolled": false
   },
   "outputs": [],
   "source": [
    "# Stacked barchart of lighting, weather, road surface, and traffice control device per accident description\n",
    "conditions = ['Lighting Conditions', 'Weather Conditions', 'Road Surface Conditions']\n",
    "\n",
    "# Create a list of pivot tables and charts for each condition\n",
    "for condition in conditions:\n",
    "    pivot_table = df.pivot_table(index=condition, columns='Collision Type Descriptor', values='Year', aggfunc='count')\n",
    "    ax = pivot_table.plot(kind='bar', stacked=True, figsize=(10, 6))\n",
    "\n",
    "    ax.set_title(f'Distribution of Crash Types by {condition}')\n",
    "    ax.set_xlabel(condition)\n",
    "    ax.set_ylabel('Number of Accidents')\n",
    "    plt.show()"
   ]
  },
  {
   "cell_type": "code",
   "execution_count": null,
   "id": "0259a0c7",
   "metadata": {},
   "outputs": [],
   "source": [
    "# Drop Time\n",
    "df.drop(\"Time\", axis = 1 , inplace = True)"
   ]
  },
  {
   "cell_type": "markdown",
   "id": "e0489059",
   "metadata": {},
   "source": [
    "## Feature Extraction"
   ]
  },
  {
   "cell_type": "markdown",
   "id": "bd5383c1",
   "metadata": {},
   "source": [
    "One hot encoding all of the categorical variables leaves us with a lot of features. Let's see if we can do some feature extraction to whittle that down. Let's start with the event descriptor variable."
   ]
  },
  {
   "cell_type": "code",
   "execution_count": null,
   "id": "9b8a33a2",
   "metadata": {},
   "outputs": [],
   "source": [
    "df[\"Event Descriptor\"].unique()"
   ]
  },
  {
   "cell_type": "markdown",
   "id": "746a8934",
   "metadata": {},
   "source": [
    "As shown above, there are alot of categories for this one. The visualizations also show that there are relatively few occurances besides collision with another car. Let's just recode them as \"Collision with Fixed Object\", \"Collision with Other Vehicle\", \"Collision with Pedestrian/Animal\", and \"Non-Collision\""
   ]
  },
  {
   "cell_type": "code",
   "execution_count": null,
   "id": "c1cb5c95",
   "metadata": {},
   "outputs": [],
   "source": [
    "# Define conditions to recode\n",
    "conditions = [\n",
    "    # Conditions for \"Collision with Fixed Object\"\n",
    "    ((df[\"Event Descriptor\"] == \"Earth Embankment/Rock Cut/Ditch, Collision With Fixed Object\") |\n",
    "    (df[\"Event Descriptor\"] == \"Fire Hydrant, Collision With Fixed Object\") |\n",
    "    (df[\"Event Descriptor\"] == \"Other Fixed Object*, Collision With Fixed Object\") |\n",
    "    (df[\"Event Descriptor\"] == \"Barrier, Collision With Fixed Object\") |\n",
    "    (df[\"Event Descriptor\"] == \"Curbing, Collision With Fixed Object\") |\n",
    "    (df[\"Event Descriptor\"] == \"Building/Wall, Collision With Fixed Object\") |\n",
    "    (df[\"Event Descriptor\"] == \"Light Support/Utility Pole, Collision With Fixed Object\") |\n",
    "    (df[\"Event Descriptor\"] == \"Median - Not At End, Collision With Fixed Object\") |\n",
    "    (df[\"Event Descriptor\"] == \"Tree, Collision With Fixed Object\") |\n",
    "    (df[\"Event Descriptor\"] == \"Guide Rail - Not At End, Collision With Fixed Object\") |\n",
    "    (df[\"Event Descriptor\"] == \"Guide Rail - End, Collision With Fixed Object\") |\n",
    "    (df[\"Event Descriptor\"] == \"Bridge Structure, Collision With Fixed Object\") |\n",
    "    (df[\"Event Descriptor\"] == \"Snow Embankment, Collision With Fixed Object\") |\n",
    "    (df[\"Event Descriptor\"] == \"Sign Post, Collision With Fixed Object\") |\n",
    "    (df[\"Event Descriptor\"] == \"Culver/Head Wall, Collision With Fixed Object\") |\n",
    "    (df[\"Event Descriptor\"] == \"Fence, Collision With Fixed Object\") |\n",
    "    (df[\"Event Descriptor\"] == \"Crash Cushion, Collision With Fixed Object\") |\n",
    "    (df[\"Event Descriptor\"] == \"Median - End, Collision With Fixed Object\")),\n",
    "    # Conditions for \"Collision with Other Vehicle (I'm going to count trains in here too)\"\n",
    "    ((df[\"Event Descriptor\"] == \"Other Motor Vehicle, Collision With\") |\n",
    "    (df[\"Event Descriptor\"] == \"Railroad Train, Collision With\")),\n",
    "    # Conditions for \"Collision with Pedestrian/Animal\"\n",
    "    ((df[\"Event Descriptor\"] == \"Pedestrian, Collision With\") | \n",
    "     (df[\"Event Descriptor\"] == \"Bicyclist, Collision With\") |\n",
    "     (df[\"Event Descriptor\"] == \"Deer\") | (df[\"Event Descriptor\"] == \"Animal, Collision With\") | \n",
    "     (df[\"Event Descriptor\"] == \"Other Pedestrian\")| (df[\"Event Descriptor\"] == \"In-Line Skater, Collision With\")|\n",
    "     (df[\"Event Descriptor\"] == \"Other Object (Not Fixed)*, Collision With\")),\n",
    "    # Conditions for \"Non-Collision\"\n",
    "    ((df[\"Event Descriptor\"] == \"Overturned, Non-Collision\") | (df[\"Event Descriptor\"] == \"Other*, Non-Collision\") |\n",
    "     (df[\"Event Descriptor\"] == \"Ran Off Roadway Only, Non-Collision\") |\n",
    "     (df[\"Event Descriptor\"] == \"Submersion, Non-Collision\") | \n",
    "     (df[\"Event Descriptor\"] == \"Fire/Explosion, Non-Collision\"))\n",
    "]\n",
    "\n",
    "# Corresponding values with the four conditions\n",
    "value = [\n",
    "    \"Collision with Fixed Object\",\n",
    "    \"Collision with Other Vehicle\",\n",
    "    \"Collision with Pedestrian/Animal\",\n",
    "    \"Non-Collision\"\n",
    "    ]\n",
    "\n",
    "# Recode\n",
    "df[\"Event Descriptor\"] = np.select(conditions, value)"
   ]
  },
  {
   "cell_type": "code",
   "execution_count": null,
   "id": "72f4e940",
   "metadata": {},
   "outputs": [],
   "source": [
    "df[\"Event Descriptor\"].unique()"
   ]
  },
  {
   "cell_type": "markdown",
   "id": "634ffd39",
   "metadata": {},
   "source": [
    "We may lose some information here, but it is much more manageable. Let's look at collision type descriptor next."
   ]
  },
  {
   "cell_type": "code",
   "execution_count": null,
   "id": "30df562f",
   "metadata": {},
   "outputs": [],
   "source": [
    "df[\"Collision Type Descriptor\"].unique()"
   ]
  },
  {
   "cell_type": "code",
   "execution_count": null,
   "id": "e37a8923",
   "metadata": {},
   "outputs": [],
   "source": [
    "# Look at frequencies of co-occurences\n",
    "ctd_frequencies = pd.crosstab(df[\"Collision Type Descriptor\"], df[\"Crash Descriptor\"], normalize = \"index\")\n",
    "ctd_frequencies"
   ]
  },
  {
   "cell_type": "markdown",
   "id": "d0dcee73",
   "metadata": {},
   "source": [
    "I'm not quite sure what the difference is between the different left/right turn variables. There seem to be some minor differences above, but nothing substantial. Let's combine those."
   ]
  },
  {
   "cell_type": "code",
   "execution_count": null,
   "id": "5b495c83",
   "metadata": {},
   "outputs": [],
   "source": [
    "df[\"Collision Type Descriptor\"].replace({\"LEFT TURN (3)\": \"LEFT TURN\", \"LEFT TURN (0)\": \"LEFT TURN\",\n",
    "                                        \"RIGHT TURN (6)\": \"RIGHT TURN\", \"RIGHT TURN (5)\": \"RIGHT TURN\"}, inplace = True)"
   ]
  },
  {
   "cell_type": "code",
   "execution_count": null,
   "id": "481ebc13",
   "metadata": {},
   "outputs": [],
   "source": [
    "df[\"Collision Type Descriptor\"].unique()"
   ]
  },
  {
   "cell_type": "markdown",
   "id": "21b98f85",
   "metadata": {},
   "source": [
    "Lighting and Road Descriptor look fine. I'm thinking we may only need one of the road surface or weather condition variables. Let's check their mutual information."
   ]
  },
  {
   "cell_type": "code",
   "execution_count": null,
   "id": "4092eb7a",
   "metadata": {},
   "outputs": [],
   "source": [
    "df[\"Road Surface Conditions\"].unique()"
   ]
  },
  {
   "cell_type": "code",
   "execution_count": null,
   "id": "fd6f5e84",
   "metadata": {},
   "outputs": [],
   "source": [
    "df[\"Weather Conditions\"].unique()"
   ]
  },
  {
   "cell_type": "code",
   "execution_count": null,
   "id": "d65c900e",
   "metadata": {},
   "outputs": [],
   "source": [
    "# Look at frequencies of co-occurences\n",
    "cond_frequencies = pd.crosstab(df[\"Road Surface Conditions\"], df[\"Weather Conditions\"], normalize = \"index\")\n",
    "cond_frequencies"
   ]
  },
  {
   "cell_type": "code",
   "execution_count": null,
   "id": "9eb0e464",
   "metadata": {},
   "outputs": [],
   "source": [
    "# Look at mutual info\n",
    "mutual_info_score(df[\"Road Surface Conditions\"], df[\"Weather Conditions\"])"
   ]
  },
  {
   "cell_type": "markdown",
   "id": "067ae093",
   "metadata": {},
   "source": [
    "It looks like these are really related. Let's just stick with road contitions, since I feel that is more applicable here."
   ]
  },
  {
   "cell_type": "code",
   "execution_count": null,
   "id": "c5bd42eb",
   "metadata": {},
   "outputs": [],
   "source": [
    "df.drop(\"Weather Conditions\", axis = 1, inplace = True)"
   ]
  },
  {
   "cell_type": "markdown",
   "id": "96a9b385",
   "metadata": {},
   "source": [
    "Now, let's look at Traffic Control Devices"
   ]
  },
  {
   "cell_type": "code",
   "execution_count": null,
   "id": "d655a401",
   "metadata": {},
   "outputs": [],
   "source": [
    "df[\"Traffic Control Device\"].value_counts()"
   ]
  },
  {
   "cell_type": "markdown",
   "id": "7de817fc",
   "metadata": {},
   "source": [
    "I'm not convinced this will be very informative. Check crosstabs."
   ]
  },
  {
   "cell_type": "code",
   "execution_count": null,
   "id": "3322bfe2",
   "metadata": {
    "scrolled": false
   },
   "outputs": [],
   "source": [
    "# Look at frequencies of co-occurences\n",
    "dev_frequencies = pd.crosstab(df[\"Traffic Control Device\"], df[\"Crash Descriptor\"], normalize = \"index\")\n",
    "dev_frequencies"
   ]
  },
  {
   "cell_type": "markdown",
   "id": "882847c8",
   "metadata": {},
   "source": [
    "It looks like some features would potentially be useful in distinguishing some classes, like Officer/Guard for injury, or Police/Fire Emergency for property and injury, but overall there really doesn't seem to be that much variation between these. Let's drop for now. We can always add it in again."
   ]
  },
  {
   "cell_type": "code",
   "execution_count": null,
   "id": "34e3f2c3",
   "metadata": {},
   "outputs": [],
   "source": [
    "df.drop(\"Traffic Control Device\", axis = 1, inplace = True)"
   ]
  },
  {
   "cell_type": "markdown",
   "id": "25941aab",
   "metadata": {},
   "source": [
    "Now, Police Report"
   ]
  },
  {
   "cell_type": "code",
   "execution_count": null,
   "id": "b845b595",
   "metadata": {},
   "outputs": [],
   "source": [
    "df[\"Police Report\"].unique()"
   ]
  },
  {
   "cell_type": "markdown",
   "id": "e4643f56",
   "metadata": {},
   "source": [
    "We can just recode this to a binary variable now, so we don't have a column we don't need from one hot encoding."
   ]
  },
  {
   "cell_type": "code",
   "execution_count": null,
   "id": "59ae8f53",
   "metadata": {},
   "outputs": [],
   "source": [
    "df[\"Police Report\"].replace({\"Y\": 1, \"N\": 0}, inplace = True)"
   ]
  },
  {
   "cell_type": "markdown",
   "id": "ec1108f4",
   "metadata": {},
   "source": [
    "Finally, let's look at Pedestrian Bicyclist Action. Let's not worry about Municipality or County for now."
   ]
  },
  {
   "cell_type": "code",
   "execution_count": null,
   "id": "c34a38d6",
   "metadata": {},
   "outputs": [],
   "source": [
    "df[\"Pedestrian Bicyclist Action\"].value_counts()"
   ]
  },
  {
   "cell_type": "markdown",
   "id": "f9ad5311",
   "metadata": {},
   "source": [
    "These realatively do not happen that often. Let's drop for now."
   ]
  },
  {
   "cell_type": "code",
   "execution_count": null,
   "id": "758c31f4",
   "metadata": {},
   "outputs": [],
   "source": [
    "df.head()"
   ]
  },
  {
   "cell_type": "code",
   "execution_count": null,
   "id": "7edb7497",
   "metadata": {
    "scrolled": false
   },
   "outputs": [],
   "source": [
    "Xtransformer = ColumnTransformer(\n",
    "[\n",
    "    ('categorical', OneHotEncoder(), ['Collision Type Descriptor', 'Lighting Conditions', 'Road Descriptor', \n",
    "                                      'Road Surface Conditions', 'Event Descriptor']),\n",
    "    ('drop', 'drop', ['Municipality', 'County Name', 'Pedestrian Bicyclist Action', 'Crash Descriptor'])   \n",
    "],\n",
    "    remainder='passthrough'\n",
    ")\n",
    "\n",
    "X = Xtransformer.fit_transform(df)\n",
    "y = df[[\"Crash Descriptor\"]].values.ravel()\n",
    "\n",
    "X_train, X_test, y_train, y_test = train_test_split(X, y, test_size=0.2, random_state=42)\n"
   ]
  },
  {
   "cell_type": "markdown",
   "id": "ded40fba",
   "metadata": {},
   "source": [
    "We start out with a dummy clasxifier (picks the most common class every time), and calculate the f1-score for that. We'll compare the confusion matrix and f1 score for some other classification methods."
   ]
  },
  {
   "cell_type": "code",
   "execution_count": null,
   "id": "b03e46a6",
   "metadata": {},
   "outputs": [],
   "source": [
    "confusion_matrix(y_test, y_decisiontree_pred)"
   ]
  },
  {
   "cell_type": "code",
   "execution_count": 76,
   "id": "ebec800d",
   "metadata": {},
   "outputs": [
    {
     "data": {
      "text/plain": [
       "0.5895643572735833"
      ]
     },
     "execution_count": 76,
     "metadata": {},
     "output_type": "execute_result"
    }
   ],
   "source": [
    "f1_score(y_test, y_decisiontree_pred, average='micro')"
   ]
  },
  {
   "cell_type": "markdown",
   "id": "85b791e5",
   "metadata": {},
   "source": [
    "Giving the decision tree classifier a max depth of 10 yields better performance."
   ]
  },
  {
   "cell_type": "code",
   "execution_count": 77,
   "id": "b042fa8a",
   "metadata": {},
   "outputs": [],
   "source": [
    "model = DecisionTreeClassifier(max_depth=10)\n",
    "\n",
    "model.fit(X_train, y_train)\n",
    "\n",
    "y_decisiontree_pred = model.predict(X_test)"
   ]
  },
  {
   "cell_type": "code",
   "execution_count": 78,
   "id": "ae125301",
   "metadata": {},
   "outputs": [
    {
     "data": {
      "text/plain": [
       "array([[     2,    176,     63,    717],\n",
       "       [     0,  13760,    884,  25308],\n",
       "       [     2,   2071,   3141,  67249],\n",
       "       [     2,   6741,   2646, 255346]])"
      ]
     },
     "execution_count": 78,
     "metadata": {},
     "output_type": "execute_result"
    }
   ],
   "source": [
    "confusion_matrix(y_test, y_decisiontree_pred)"
   ]
  },
  {
   "cell_type": "code",
   "execution_count": 79,
   "id": "42824bd4",
   "metadata": {
    "scrolled": true
   },
   "outputs": [
    {
     "data": {
      "text/plain": [
       "0.7200297269563194"
      ]
     },
     "execution_count": 79,
     "metadata": {},
     "output_type": "execute_result"
    }
   ],
   "source": [
    "f1_score(y_test, y_decisiontree_pred, average='micro')"
   ]
  },
  {
   "cell_type": "markdown",
   "id": "6a202dc8",
   "metadata": {},
   "source": [
    "We'll experiment with max depths of various sizes and plot the training and test accuracy to show the concept of under-fitting and over-fitting."
   ]
  },
  {
   "cell_type": "code",
   "execution_count": 84,
   "id": "7707b023",
   "metadata": {},
   "outputs": [],
   "source": [
    "max_depths = [1,5,10,15,20,30,40,None]\n",
    "\n",
    "test_scores = []\n",
    "train_scores = []\n",
    "\n",
    "for d in max_depths:\n",
    "    model = DecisionTreeClassifier(max_depth=d)\n",
    "    model.fit(X_train, y_train)\n",
    "    train_scores.append(model.score(X_train, y_train))\n",
    "    test_scores.append(model.score(X_test, y_test))"
   ]
  },
  {
   "cell_type": "code",
   "execution_count": 85,
   "id": "19217b41",
   "metadata": {
    "scrolled": true
   },
   "outputs": [
    {
     "data": {
      "image/png": "[encoded data removed]",
      "text/plain": [
       "<Figure size 640x480 with 1 Axes>"
      ]
     },
     "metadata": {},
     "output_type": "display_data"
    }
   ],
   "source": [
    "plt.plot(max_depths, test_scores, label = \"test score\")\n",
    "plt.plot(max_depths, train_scores, label = \"training score\")\n",
    "plt.legend()\n",
    "plt.show()"
   ]
  },
  {
   "cell_type": "markdown",
   "id": "4655c2f7",
   "metadata": {},
   "source": [
    "Now, to get better performance, we'll use an SVC and use GridSearchCV to optimize the parameters."
   ]
  },
  {
   "cell_type": "markdown",
   "id": "7819da46",
   "metadata": {},
   "source": [
    "## PCA"
   ]
  },
  {
   "cell_type": "code",
   "execution_count": null,
   "id": "4245ffc6",
   "metadata": {},
   "outputs": [],
   "source": [
    "# Standardize the data\n",
    "scaler = StandardScaler()\n",
    "scaled_X_train = scaler.fit_transform(X_train)"
   ]
  },
  {
   "cell_type": "code",
   "execution_count": null,
   "id": "66f1a137",
   "metadata": {},
   "outputs": [],
   "source": [
    "# Perform PCA to get projected values\n",
    "pca = PCA().fit(X_train)\n",
    "projected_X_train = pca.transform(X_train)"
   ]
  },
  {
   "cell_type": "code",
   "execution_count": null,
   "id": "b29f8f97",
   "metadata": {},
   "outputs": [],
   "source": [
    "# Show explained variance\n",
    "pca.explained_variance_ratio_"
   ]
  },
  {
   "cell_type": "markdown",
   "id": "f90c1f51",
   "metadata": {},
   "source": [
    "Plot the explained variance and number of PCs. Check for 90%, 95%, and 99% of variance"
   ]
  },
  {
   "cell_type": "code",
   "execution_count": null,
   "id": "cbe65b2b",
   "metadata": {},
   "outputs": [],
   "source": [
    "# get total explained variance ratio\n",
    "y_axis = np.cumsum(pca.explained_variance_ratio_)\n",
    "# Get number of pcs\n",
    "x_axis = np.arange(1, len(y_axis) + 1, step = 1)\n",
    "\n",
    "# Now plot it\n",
    "fig = plt.figure(figsize = (12,6))\n",
    "pcs = sns.lineplot(x = x_axis, y = y_axis, markers = True, color = \"grey\", marker = \"o\", dashes=[2])\n",
    "# Add lines signifying cutoffs\n",
    "plt.axhline(y=0.90, color='b', linestyle='-', label = \"90%\")\n",
    "plt.axhline(y=0.95, color='orange', linestyle='-', label = \"95%\")\n",
    "plt.axhline(y=0.99, color='r', linestyle='-', label = \"99%\")\n",
    "\n",
    "pcs.set(xlabel = \"Number of Components\", ylabel = \"Cumulative Variance Percent\", \n",
    "        title = \"Number of Components and Explained Variance\",\n",
    "        xticks = x_axis)\n",
    "plt.legend()"
   ]
  },
  {
   "cell_type": "markdown",
   "id": "f97de67c",
   "metadata": {},
   "source": [
    "Looks like we need 3 pcs to capture both 90% and 95% of the variance, and 6 if we want 99. Let's visualize two pcs."
   ]
  },
  {
   "cell_type": "code",
   "execution_count": null,
   "id": "99a7f5ed",
   "metadata": {},
   "outputs": [],
   "source": [
    "len(X_train)"
   ]
  },
  {
   "cell_type": "markdown",
   "id": "b367a4af",
   "metadata": {},
   "source": [
    "Visualize two PCs"
   ]
  },
  {
   "cell_type": "code",
   "execution_count": null,
   "id": "43297d8b",
   "metadata": {},
   "outputs": [],
   "source": [
    "# This wasn't that informative\n",
    "# # Create a dataframe with the first two pcs and the classes\n",
    "# two_projected = pd.DataFrame(projected_X_train[:, 0:2], columns = [\"PC1\", \"PC2\"])\n",
    "# two_projected[\"Descriptor\"] = y_train.reset_index(drop = True)[\"Crash Descriptor\"]\n",
    "\n",
    "# # Plot (this takes a while to run so I commented it out, also with so much data it is not very helpful)\n",
    "# # sns.scatterplot(data = two_projected, x = \"PC1\", y = \"PC2\", hue = \"Descriptor\")"
   ]
  },
  {
   "cell_type": "markdown",
   "id": "55faa751",
   "metadata": {},
   "source": [
    "### Look at feature importance"
   ]
  },
  {
   "cell_type": "code",
   "execution_count": null,
   "id": "5f360624",
   "metadata": {
    "scrolled": false
   },
   "outputs": [],
   "source": [
    "# Get a list of feature names\n",
    "feature_names = list(Xtransformer.get_feature_names_out())\n",
    "\n",
    "# Let's look at the first three PCs to get 95% of the variance\n",
    "fix, axs = plt.subplots(3, 1, figsize = (6, 28))\n",
    "\n",
    "for i in range(3):\n",
    "    pdat = pd.Series(pca.components_[:, i], index = feature_names)\n",
    "    sns.barplot(x = pdat.values, y = pdat.index, ax = axs[i])\n",
    "    axs[i].set_title(f\"PC{i + 1}\")"
   ]
  },
  {
   "cell_type": "markdown",
   "id": "cb88df81",
   "metadata": {},
   "source": [
    "Surprisingly, it looks like whether the road surface conditions were unknown is one of the most important features. The month, and if there is a curve at the hilcrest also look fairly important."
   ]
  }
 ],
 "metadata": {
  "kernelspec": {
   "display_name": "Python 3 (ipykernel)",
   "language": "python",
   "name": "python3"
  },
  "language_info": {
   "codemirror_mode": {
    "name": "ipython",
    "version": 3
   },
   "file_extension": ".py",
   "mimetype": "text/x-python",
   "name": "python",
   "nbconvert_exporter": "python",
   "pygments_lexer": "ipython3",
   "version": "3.11.3"
  }
 },
 "nbformat": 4,
 "nbformat_minor": 5
}
