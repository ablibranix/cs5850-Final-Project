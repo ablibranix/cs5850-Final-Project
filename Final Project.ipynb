{
 "cells": [
  {
   "cell_type": "markdown",
   "id": "491e4a3c",
   "metadata": {},
   "source": [
    "# Final Project\n",
    "Abigail Allen  \n",
    "Josh Urry  \n",
    "Trevor Jex"
   ]
  },
  {
   "cell_type": "code",
   "execution_count": 1,
   "id": "2159d1ea",
   "metadata": {},
   "outputs": [],
   "source": [
    "import pandas as pd\n",
    "import numpy as np\n",
    "import matplotlib.pyplot as plt\n",
    "import seaborn as sns\n",
    "%matplotlib inline"
   ]
  },
  {
   "cell_type": "code",
   "execution_count": 2,
   "id": "e4bfa90a",
   "metadata": {},
   "outputs": [],
   "source": [
    "# Load data\n",
    "df = pd.read_csv(\"Motor_Vehicle_Crashes_-_Case_Information__Three_Year_Window.csv\")"
   ]
  },
  {
   "cell_type": "code",
   "execution_count": 3,
   "id": "022d168b",
   "metadata": {
    "scrolled": false
   },
   "outputs": [
    {
     "data": {
      "text/html": [
       "<div>\n",
       "<style scoped>\n",
       "    .dataframe tbody tr th:only-of-type {\n",
       "        vertical-align: middle;\n",
       "    }\n",
       "\n",
       "    .dataframe tbody tr th {\n",
       "        vertical-align: top;\n",
       "    }\n",
       "\n",
       "    .dataframe thead th {\n",
       "        text-align: right;\n",
       "    }\n",
       "</style>\n",
       "<table border=\"1\" class=\"dataframe\">\n",
       "  <thead>\n",
       "    <tr style=\"text-align: right;\">\n",
       "      <th></th>\n",
       "      <th>Year</th>\n",
       "      <th>Crash Descriptor</th>\n",
       "      <th>Time</th>\n",
       "      <th>Date</th>\n",
       "      <th>Day of Week</th>\n",
       "      <th>Police Report</th>\n",
       "      <th>Lighting Conditions</th>\n",
       "      <th>Municipality</th>\n",
       "      <th>Collision Type Descriptor</th>\n",
       "      <th>County Name</th>\n",
       "      <th>Road Descriptor</th>\n",
       "      <th>Weather Conditions</th>\n",
       "      <th>Traffic Control Device</th>\n",
       "      <th>Road Surface Conditions</th>\n",
       "      <th>DOT Reference Marker Location</th>\n",
       "      <th>Pedestrian Bicyclist Action</th>\n",
       "      <th>Event Descriptor</th>\n",
       "      <th>Number of Vehicles Involved</th>\n",
       "    </tr>\n",
       "  </thead>\n",
       "  <tbody>\n",
       "    <tr>\n",
       "      <th>0</th>\n",
       "      <td>2017</td>\n",
       "      <td>Property Damage &amp; Injury Accident</td>\n",
       "      <td>6:49</td>\n",
       "      <td>01/03/2017</td>\n",
       "      <td>Tuesday</td>\n",
       "      <td>Y</td>\n",
       "      <td>Dawn</td>\n",
       "      <td>HEMPSTEAD</td>\n",
       "      <td>REAR END</td>\n",
       "      <td>NASSAU</td>\n",
       "      <td>Straight and Level</td>\n",
       "      <td>Cloudy</td>\n",
       "      <td>Traffic Signal</td>\n",
       "      <td>Wet</td>\n",
       "      <td>NaN</td>\n",
       "      <td>Not Applicable</td>\n",
       "      <td>Other Motor Vehicle, Collision With</td>\n",
       "      <td>2</td>\n",
       "    </tr>\n",
       "    <tr>\n",
       "      <th>1</th>\n",
       "      <td>2017</td>\n",
       "      <td>Injury Accident</td>\n",
       "      <td>17:17</td>\n",
       "      <td>01/02/2017</td>\n",
       "      <td>Monday</td>\n",
       "      <td>Y</td>\n",
       "      <td>Dark-Road Lighted</td>\n",
       "      <td>HEMPSTEAD</td>\n",
       "      <td>OTHER</td>\n",
       "      <td>NASSAU</td>\n",
       "      <td>Straight and Level</td>\n",
       "      <td>Rain</td>\n",
       "      <td>Stop Sign</td>\n",
       "      <td>Wet</td>\n",
       "      <td>NaN</td>\n",
       "      <td>Crossing, With Signal</td>\n",
       "      <td>Pedestrian, Collision With</td>\n",
       "      <td>1</td>\n",
       "    </tr>\n",
       "    <tr>\n",
       "      <th>2</th>\n",
       "      <td>2017</td>\n",
       "      <td>Property Damage Accident</td>\n",
       "      <td>22:50</td>\n",
       "      <td>01/02/2017</td>\n",
       "      <td>Monday</td>\n",
       "      <td>Y</td>\n",
       "      <td>Dark-Road Lighted</td>\n",
       "      <td>HEMPSTEAD</td>\n",
       "      <td>LEFT TURN (3)</td>\n",
       "      <td>NASSAU</td>\n",
       "      <td>Straight and Level</td>\n",
       "      <td>Rain</td>\n",
       "      <td>Traffic Signal</td>\n",
       "      <td>Wet</td>\n",
       "      <td>NaN</td>\n",
       "      <td>Not Applicable</td>\n",
       "      <td>Other Motor Vehicle, Collision With</td>\n",
       "      <td>2</td>\n",
       "    </tr>\n",
       "    <tr>\n",
       "      <th>3</th>\n",
       "      <td>2017</td>\n",
       "      <td>Property Damage Accident</td>\n",
       "      <td>10:00</td>\n",
       "      <td>01/03/2017</td>\n",
       "      <td>Tuesday</td>\n",
       "      <td>Y</td>\n",
       "      <td>Daylight</td>\n",
       "      <td>HEMPSTEAD</td>\n",
       "      <td>OVERTAKING</td>\n",
       "      <td>NASSAU</td>\n",
       "      <td>Straight and Level</td>\n",
       "      <td>Rain</td>\n",
       "      <td>Traffic Signal</td>\n",
       "      <td>Wet</td>\n",
       "      <td>NaN</td>\n",
       "      <td>Not Applicable</td>\n",
       "      <td>Other Motor Vehicle, Collision With</td>\n",
       "      <td>2</td>\n",
       "    </tr>\n",
       "    <tr>\n",
       "      <th>4</th>\n",
       "      <td>2017</td>\n",
       "      <td>Property Damage Accident</td>\n",
       "      <td>7:05</td>\n",
       "      <td>01/03/2017</td>\n",
       "      <td>Tuesday</td>\n",
       "      <td>Y</td>\n",
       "      <td>Daylight</td>\n",
       "      <td>HEMPSTEAD</td>\n",
       "      <td>REAR END</td>\n",
       "      <td>NASSAU</td>\n",
       "      <td>Straight and Level</td>\n",
       "      <td>Cloudy</td>\n",
       "      <td>None</td>\n",
       "      <td>Wet</td>\n",
       "      <td>NaN</td>\n",
       "      <td>Not Applicable</td>\n",
       "      <td>Other Motor Vehicle, Collision With</td>\n",
       "      <td>2</td>\n",
       "    </tr>\n",
       "  </tbody>\n",
       "</table>\n",
       "</div>"
      ],
      "text/plain": [
       "   Year                   Crash Descriptor   Time        Date Day of Week  \\\n",
       "0  2017  Property Damage & Injury Accident   6:49  01/03/2017     Tuesday   \n",
       "1  2017                    Injury Accident  17:17  01/02/2017      Monday   \n",
       "2  2017           Property Damage Accident  22:50  01/02/2017      Monday   \n",
       "3  2017           Property Damage Accident  10:00  01/03/2017     Tuesday   \n",
       "4  2017           Property Damage Accident   7:05  01/03/2017     Tuesday   \n",
       "\n",
       "  Police Report Lighting Conditions Municipality Collision Type Descriptor  \\\n",
       "0             Y                Dawn    HEMPSTEAD                  REAR END   \n",
       "1             Y   Dark-Road Lighted    HEMPSTEAD                     OTHER   \n",
       "2             Y   Dark-Road Lighted    HEMPSTEAD             LEFT TURN (3)   \n",
       "3             Y            Daylight    HEMPSTEAD                OVERTAKING   \n",
       "4             Y            Daylight    HEMPSTEAD                  REAR END   \n",
       "\n",
       "  County Name     Road Descriptor Weather Conditions Traffic Control Device  \\\n",
       "0      NASSAU  Straight and Level             Cloudy         Traffic Signal   \n",
       "1      NASSAU  Straight and Level               Rain              Stop Sign   \n",
       "2      NASSAU  Straight and Level               Rain         Traffic Signal   \n",
       "3      NASSAU  Straight and Level               Rain         Traffic Signal   \n",
       "4      NASSAU  Straight and Level             Cloudy                   None   \n",
       "\n",
       "  Road Surface Conditions DOT Reference Marker Location  \\\n",
       "0                     Wet                           NaN   \n",
       "1                     Wet                           NaN   \n",
       "2                     Wet                           NaN   \n",
       "3                     Wet                           NaN   \n",
       "4                     Wet                           NaN   \n",
       "\n",
       "  Pedestrian Bicyclist Action                     Event Descriptor  \\\n",
       "0              Not Applicable  Other Motor Vehicle, Collision With   \n",
       "1       Crossing, With Signal           Pedestrian, Collision With   \n",
       "2              Not Applicable  Other Motor Vehicle, Collision With   \n",
       "3              Not Applicable  Other Motor Vehicle, Collision With   \n",
       "4              Not Applicable  Other Motor Vehicle, Collision With   \n",
       "\n",
       "   Number of Vehicles Involved  \n",
       "0                            2  \n",
       "1                            1  \n",
       "2                            2  \n",
       "3                            2  \n",
       "4                            2  "
      ]
     },
     "execution_count": 3,
     "metadata": {},
     "output_type": "execute_result"
    }
   ],
   "source": [
    "df.head()"
   ]
  },
  {
   "cell_type": "code",
   "execution_count": 4,
   "id": "93c44d5e",
   "metadata": {},
   "outputs": [
    {
     "data": {
      "text/plain": [
       "1890537"
      ]
     },
     "execution_count": 4,
     "metadata": {},
     "output_type": "execute_result"
    }
   ],
   "source": [
    "# Check number of samples\n",
    "len(df)"
   ]
  },
  {
   "cell_type": "markdown",
   "id": "f2ec7557",
   "metadata": {},
   "source": [
    "## Preprocessing"
   ]
  },
  {
   "cell_type": "code",
   "execution_count": 5,
   "id": "322768d8",
   "metadata": {},
   "outputs": [
    {
     "data": {
      "text/plain": [
       "Year                                   0\n",
       "Crash Descriptor                       0\n",
       "Time                                   0\n",
       "Date                                   0\n",
       "Day of Week                            0\n",
       "Police Report                          0\n",
       "Lighting Conditions                    0\n",
       "Municipality                       14620\n",
       "Collision Type Descriptor              0\n",
       "County Name                            0\n",
       "Road Descriptor                        0\n",
       "Weather Conditions                     0\n",
       "Traffic Control Device                 0\n",
       "Road Surface Conditions                0\n",
       "DOT Reference Marker Location    1257386\n",
       "Pedestrian Bicyclist Action            0\n",
       "Event Descriptor                       0\n",
       "Number of Vehicles Involved            0\n",
       "dtype: int64"
      ]
     },
     "execution_count": 5,
     "metadata": {},
     "output_type": "execute_result"
    }
   ],
   "source": [
    "# Check NA values\n",
    "df.isna().sum()"
   ]
  },
  {
   "cell_type": "markdown",
   "id": "c3eaab93",
   "metadata": {},
   "source": [
    "Let's drop the \"DOT Reference Marker Location\" variable, since the majority of accidents have this missing. Maybe we could just remove the rows where the Municipality is blank. Or just drop it as well and just use the County."
   ]
  },
  {
   "cell_type": "code",
   "execution_count": 6,
   "id": "b963d89d",
   "metadata": {},
   "outputs": [],
   "source": [
    "df.drop(\"DOT Reference Marker Location\", axis = 1, inplace = True)"
   ]
  },
  {
   "cell_type": "markdown",
   "id": "a5e969c6",
   "metadata": {},
   "source": [
    "Let's figure out how to handle the date variables."
   ]
  },
  {
   "cell_type": "code",
   "execution_count": 7,
   "id": "ad50c626",
   "metadata": {},
   "outputs": [
    {
     "data": {
      "text/plain": [
       "array([2017, 2019, 2021, 2018, 2020], dtype=int64)"
      ]
     },
     "execution_count": 7,
     "metadata": {},
     "output_type": "execute_result"
    }
   ],
   "source": [
    "df.Year.unique()"
   ]
  },
  {
   "cell_type": "markdown",
   "id": "eeb35ea5",
   "metadata": {},
   "source": [
    "We could represent these as 0, 1, 2, 3, and 4 as a variable that represents \"years from 2017\", so it is numeric."
   ]
  },
  {
   "cell_type": "code",
   "execution_count": 8,
   "id": "e5dbd998",
   "metadata": {},
   "outputs": [],
   "source": [
    "df.Year.replace({2017: 0, 2018: 1, 2019: 2, 2020: 3, 2021: 4}, inplace = True)"
   ]
  },
  {
   "cell_type": "markdown",
   "id": "aeb2e72f",
   "metadata": {},
   "source": [
    "Let's convert time and date to date time objects and extract the minutes, hours, month, and day"
   ]
  },
  {
   "cell_type": "code",
   "execution_count": 9,
   "id": "b6d93ce9",
   "metadata": {},
   "outputs": [],
   "source": [
    "df.Time = pd.to_datetime(df.Time, infer_datetime_format = True)\n",
    "df.Date = pd.to_datetime(df.Date, infer_datetime_format = True)"
   ]
  },
  {
   "cell_type": "code",
   "execution_count": 10,
   "id": "70cca011",
   "metadata": {},
   "outputs": [],
   "source": [
    "df[\"month\"] = df.Date.dt.month\n",
    "df[\"day\"] = df.Date.dt.day\n",
    "df[\"hour\"] = df.Time.dt.hour\n",
    "df[\"minute\"] = df.Time.dt.minute # My guess is that we'll end up dropping this"
   ]
  },
  {
   "cell_type": "code",
   "execution_count": 11,
   "id": "a0f73f5d",
   "metadata": {},
   "outputs": [],
   "source": [
    "# Drop Date and Time variables \n",
    "df.drop([\"Date\", \"Time\"], axis = 1, inplace = True)"
   ]
  },
  {
   "cell_type": "code",
   "execution_count": 12,
   "id": "94578ddb",
   "metadata": {},
   "outputs": [],
   "source": [
    "# Now let's convert day of the week to numeric\n",
    "df[\"Day of Week\"].replace({\"Sunday\": 0, \"Monday\": 1, \"Tuesday\": 2, \"Wednesday\": 3, \"Thursday\": 4,\n",
    "                          \"Friday\": 5, \"Saturday\": 6}, inplace = True)"
   ]
  },
  {
   "cell_type": "code",
   "execution_count": 13,
   "id": "7cb2f5ab",
   "metadata": {},
   "outputs": [
    {
     "data": {
      "text/html": [
       "<div>\n",
       "<style scoped>\n",
       "    .dataframe tbody tr th:only-of-type {\n",
       "        vertical-align: middle;\n",
       "    }\n",
       "\n",
       "    .dataframe tbody tr th {\n",
       "        vertical-align: top;\n",
       "    }\n",
       "\n",
       "    .dataframe thead th {\n",
       "        text-align: right;\n",
       "    }\n",
       "</style>\n",
       "<table border=\"1\" class=\"dataframe\">\n",
       "  <thead>\n",
       "    <tr style=\"text-align: right;\">\n",
       "      <th></th>\n",
       "      <th>Year</th>\n",
       "      <th>Crash Descriptor</th>\n",
       "      <th>Day of Week</th>\n",
       "      <th>Police Report</th>\n",
       "      <th>Lighting Conditions</th>\n",
       "      <th>Municipality</th>\n",
       "      <th>Collision Type Descriptor</th>\n",
       "      <th>County Name</th>\n",
       "      <th>Road Descriptor</th>\n",
       "      <th>Weather Conditions</th>\n",
       "      <th>Traffic Control Device</th>\n",
       "      <th>Road Surface Conditions</th>\n",
       "      <th>Pedestrian Bicyclist Action</th>\n",
       "      <th>Event Descriptor</th>\n",
       "      <th>Number of Vehicles Involved</th>\n",
       "      <th>month</th>\n",
       "      <th>day</th>\n",
       "      <th>hour</th>\n",
       "      <th>minute</th>\n",
       "    </tr>\n",
       "  </thead>\n",
       "  <tbody>\n",
       "    <tr>\n",
       "      <th>0</th>\n",
       "      <td>0</td>\n",
       "      <td>Property Damage &amp; Injury Accident</td>\n",
       "      <td>2</td>\n",
       "      <td>Y</td>\n",
       "      <td>Dawn</td>\n",
       "      <td>HEMPSTEAD</td>\n",
       "      <td>REAR END</td>\n",
       "      <td>NASSAU</td>\n",
       "      <td>Straight and Level</td>\n",
       "      <td>Cloudy</td>\n",
       "      <td>Traffic Signal</td>\n",
       "      <td>Wet</td>\n",
       "      <td>Not Applicable</td>\n",
       "      <td>Other Motor Vehicle, Collision With</td>\n",
       "      <td>2</td>\n",
       "      <td>1</td>\n",
       "      <td>3</td>\n",
       "      <td>6</td>\n",
       "      <td>49</td>\n",
       "    </tr>\n",
       "    <tr>\n",
       "      <th>1</th>\n",
       "      <td>0</td>\n",
       "      <td>Injury Accident</td>\n",
       "      <td>1</td>\n",
       "      <td>Y</td>\n",
       "      <td>Dark-Road Lighted</td>\n",
       "      <td>HEMPSTEAD</td>\n",
       "      <td>OTHER</td>\n",
       "      <td>NASSAU</td>\n",
       "      <td>Straight and Level</td>\n",
       "      <td>Rain</td>\n",
       "      <td>Stop Sign</td>\n",
       "      <td>Wet</td>\n",
       "      <td>Crossing, With Signal</td>\n",
       "      <td>Pedestrian, Collision With</td>\n",
       "      <td>1</td>\n",
       "      <td>1</td>\n",
       "      <td>2</td>\n",
       "      <td>17</td>\n",
       "      <td>17</td>\n",
       "    </tr>\n",
       "    <tr>\n",
       "      <th>2</th>\n",
       "      <td>0</td>\n",
       "      <td>Property Damage Accident</td>\n",
       "      <td>1</td>\n",
       "      <td>Y</td>\n",
       "      <td>Dark-Road Lighted</td>\n",
       "      <td>HEMPSTEAD</td>\n",
       "      <td>LEFT TURN (3)</td>\n",
       "      <td>NASSAU</td>\n",
       "      <td>Straight and Level</td>\n",
       "      <td>Rain</td>\n",
       "      <td>Traffic Signal</td>\n",
       "      <td>Wet</td>\n",
       "      <td>Not Applicable</td>\n",
       "      <td>Other Motor Vehicle, Collision With</td>\n",
       "      <td>2</td>\n",
       "      <td>1</td>\n",
       "      <td>2</td>\n",
       "      <td>22</td>\n",
       "      <td>50</td>\n",
       "    </tr>\n",
       "    <tr>\n",
       "      <th>3</th>\n",
       "      <td>0</td>\n",
       "      <td>Property Damage Accident</td>\n",
       "      <td>2</td>\n",
       "      <td>Y</td>\n",
       "      <td>Daylight</td>\n",
       "      <td>HEMPSTEAD</td>\n",
       "      <td>OVERTAKING</td>\n",
       "      <td>NASSAU</td>\n",
       "      <td>Straight and Level</td>\n",
       "      <td>Rain</td>\n",
       "      <td>Traffic Signal</td>\n",
       "      <td>Wet</td>\n",
       "      <td>Not Applicable</td>\n",
       "      <td>Other Motor Vehicle, Collision With</td>\n",
       "      <td>2</td>\n",
       "      <td>1</td>\n",
       "      <td>3</td>\n",
       "      <td>10</td>\n",
       "      <td>0</td>\n",
       "    </tr>\n",
       "    <tr>\n",
       "      <th>4</th>\n",
       "      <td>0</td>\n",
       "      <td>Property Damage Accident</td>\n",
       "      <td>2</td>\n",
       "      <td>Y</td>\n",
       "      <td>Daylight</td>\n",
       "      <td>HEMPSTEAD</td>\n",
       "      <td>REAR END</td>\n",
       "      <td>NASSAU</td>\n",
       "      <td>Straight and Level</td>\n",
       "      <td>Cloudy</td>\n",
       "      <td>None</td>\n",
       "      <td>Wet</td>\n",
       "      <td>Not Applicable</td>\n",
       "      <td>Other Motor Vehicle, Collision With</td>\n",
       "      <td>2</td>\n",
       "      <td>1</td>\n",
       "      <td>3</td>\n",
       "      <td>7</td>\n",
       "      <td>5</td>\n",
       "    </tr>\n",
       "  </tbody>\n",
       "</table>\n",
       "</div>"
      ],
      "text/plain": [
       "   Year                   Crash Descriptor  Day of Week Police Report  \\\n",
       "0     0  Property Damage & Injury Accident            2             Y   \n",
       "1     0                    Injury Accident            1             Y   \n",
       "2     0           Property Damage Accident            1             Y   \n",
       "3     0           Property Damage Accident            2             Y   \n",
       "4     0           Property Damage Accident            2             Y   \n",
       "\n",
       "  Lighting Conditions Municipality Collision Type Descriptor County Name  \\\n",
       "0                Dawn    HEMPSTEAD                  REAR END      NASSAU   \n",
       "1   Dark-Road Lighted    HEMPSTEAD                     OTHER      NASSAU   \n",
       "2   Dark-Road Lighted    HEMPSTEAD             LEFT TURN (3)      NASSAU   \n",
       "3            Daylight    HEMPSTEAD                OVERTAKING      NASSAU   \n",
       "4            Daylight    HEMPSTEAD                  REAR END      NASSAU   \n",
       "\n",
       "      Road Descriptor Weather Conditions Traffic Control Device  \\\n",
       "0  Straight and Level             Cloudy         Traffic Signal   \n",
       "1  Straight and Level               Rain              Stop Sign   \n",
       "2  Straight and Level               Rain         Traffic Signal   \n",
       "3  Straight and Level               Rain         Traffic Signal   \n",
       "4  Straight and Level             Cloudy                   None   \n",
       "\n",
       "  Road Surface Conditions Pedestrian Bicyclist Action  \\\n",
       "0                     Wet              Not Applicable   \n",
       "1                     Wet       Crossing, With Signal   \n",
       "2                     Wet              Not Applicable   \n",
       "3                     Wet              Not Applicable   \n",
       "4                     Wet              Not Applicable   \n",
       "\n",
       "                      Event Descriptor  Number of Vehicles Involved  month  \\\n",
       "0  Other Motor Vehicle, Collision With                            2      1   \n",
       "1           Pedestrian, Collision With                            1      1   \n",
       "2  Other Motor Vehicle, Collision With                            2      1   \n",
       "3  Other Motor Vehicle, Collision With                            2      1   \n",
       "4  Other Motor Vehicle, Collision With                            2      1   \n",
       "\n",
       "   day  hour  minute  \n",
       "0    3     6      49  \n",
       "1    2    17      17  \n",
       "2    2    22      50  \n",
       "3    3    10       0  \n",
       "4    3     7       5  "
      ]
     },
     "execution_count": 13,
     "metadata": {},
     "output_type": "execute_result"
    }
   ],
   "source": [
    "df.head()"
   ]
  },
  {
   "cell_type": "markdown",
   "id": "581f4c3d",
   "metadata": {},
   "source": [
    "Let's figure out the target variable"
   ]
  },
  {
   "cell_type": "code",
   "execution_count": 14,
   "id": "ab478c93",
   "metadata": {},
   "outputs": [
    {
     "data": {
      "text/plain": [
       "array(['Other Motor Vehicle, Collision With',\n",
       "       'Pedestrian, Collision With',\n",
       "       'Earth Embankment/Rock Cut/Ditch, Collision With Fixed Object',\n",
       "       'Bicyclist, Collision With',\n",
       "       'Fire Hydrant, Collision With Fixed Object',\n",
       "       'Other Fixed Object*, Collision With Fixed Object',\n",
       "       'Barrier, Collision With Fixed Object',\n",
       "       'Curbing, Collision With Fixed Object',\n",
       "       'Building/Wall, Collision With Fixed Object',\n",
       "       'Light Support/Utility Pole, Collision With Fixed Object',\n",
       "       'Median - Not At End, Collision With Fixed Object',\n",
       "       'Tree, Collision With Fixed Object', 'Deer',\n",
       "       'Overturned, Non-Collision',\n",
       "       'Guide Rail - Not At End, Collision With Fixed Object',\n",
       "       'Guide Rail - End, Collision With Fixed Object',\n",
       "       'Animal, Collision With',\n",
       "       'Bridge Structure, Collision With Fixed Object',\n",
       "       'Other Object (Not Fixed)*, Collision With',\n",
       "       'Snow Embankment, Collision With Fixed Object',\n",
       "       'Sign Post, Collision With Fixed Object',\n",
       "       'Culver/Head Wall, Collision With Fixed Object',\n",
       "       'Ran Off Roadway Only, Non-Collision', 'Other*, Non-Collision',\n",
       "       'Submersion, Non-Collision', 'Fence, Collision With Fixed Object',\n",
       "       'Other Pedestrian', 'Crash Cushion, Collision With Fixed Object',\n",
       "       'Fire/Explosion, Non-Collision',\n",
       "       'Median - End, Collision With Fixed Object',\n",
       "       'Railroad Train, Collision With', 'In-Line Skater, Collision With'],\n",
       "      dtype=object)"
      ]
     },
     "execution_count": 14,
     "metadata": {},
     "output_type": "execute_result"
    }
   ],
   "source": [
    "df[\"Event Descriptor\"].unique()"
   ]
  },
  {
   "cell_type": "code",
   "execution_count": 15,
   "id": "f22a3abb",
   "metadata": {},
   "outputs": [
    {
     "data": {
      "text/plain": [
       "array(['Property Damage & Injury Accident', 'Injury Accident',\n",
       "       'Property Damage Accident', 'Fatal Accident'], dtype=object)"
      ]
     },
     "execution_count": 15,
     "metadata": {},
     "output_type": "execute_result"
    }
   ],
   "source": [
    "df[\"Crash Descriptor\"].unique()"
   ]
  },
  {
   "cell_type": "markdown",
   "id": "a1b3a12c",
   "metadata": {},
   "source": [
    "Maybe we just do classes from the descriptor variable? That would definitely be a lot easier. It seems like it would be pretty messy to deal with the event descriptor variable."
   ]
  }
 ],
 "metadata": {
  "kernelspec": {
   "display_name": "Python 3 (ipykernel)",
   "language": "python",
   "name": "python3"
  },
  "language_info": {
   "codemirror_mode": {
    "name": "ipython",
    "version": 3
   },
   "file_extension": ".py",
   "mimetype": "text/x-python",
   "name": "python",
   "nbconvert_exporter": "python",
   "pygments_lexer": "ipython3",
   "version": "3.11.1"
  }
 },
 "nbformat": 4,
 "nbformat_minor": 5
}
