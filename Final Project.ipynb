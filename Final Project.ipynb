{
 "cells": [
  {
   "cell_type": "markdown",
   "id": "491e4a3c",
   "metadata": {},
   "source": [
    "# Final Project\n",
    "Abigail Allen  \n",
    "Josh Urry  \n",
    "Trevor Jex"
   ]
  },
  {
   "cell_type": "code",
   "execution_count": null,
   "id": "2159d1ea",
   "metadata": {},
   "outputs": [],
   "source": [
    "import pandas as pd\n",
    "import numpy as np\n",
    "import matplotlib.pyplot as plt\n",
    "import seaborn as sns\n",
    "%matplotlib inline"
   ]
  },
  {
   "cell_type": "code",
   "execution_count": null,
   "id": "e4bfa90a",
   "metadata": {},
   "outputs": [],
   "source": [
    "# Load data\n",
    "df = pd.read_csv(\"Motor_Vehicle_Crashes_-_Case_Information__Three_Year_Window.csv\")"
   ]
  },
  {
   "cell_type": "code",
   "execution_count": null,
   "id": "022d168b",
   "metadata": {
    "scrolled": false
   },
   "outputs": [],
   "source": [
    "df.head()"
   ]
  },
  {
   "cell_type": "code",
   "execution_count": null,
   "id": "93c44d5e",
   "metadata": {},
   "outputs": [],
   "source": [
    "# Check number of samples\n",
    "len(df)"
   ]
  },
  {
   "cell_type": "markdown",
   "id": "f2ec7557",
   "metadata": {},
   "source": [
    "## Preprocessing"
   ]
  },
  {
   "cell_type": "code",
   "execution_count": null,
   "id": "322768d8",
   "metadata": {},
   "outputs": [],
   "source": [
    "# Check NA values\n",
    "df.isna().sum()"
   ]
  },
  {
   "cell_type": "markdown",
   "id": "c3eaab93",
   "metadata": {},
   "source": [
    "Let's drop the \"DOT Reference Marker Location\" variable, since the majority of accidents have this missing. Maybe we could just remove the rows where the Municipality is blank. Or just drop it as well and just use the County."
   ]
  },
  {
   "cell_type": "code",
   "execution_count": null,
   "id": "b963d89d",
   "metadata": {},
   "outputs": [],
   "source": [
    "df.drop(\"DOT Reference Marker Location\", axis = 1, inplace = True)"
   ]
  },
  {
   "cell_type": "markdown",
   "id": "a5e969c6",
   "metadata": {},
   "source": [
    "Let's figure out how to handle the date variables."
   ]
  },
  {
   "cell_type": "code",
   "execution_count": null,
   "id": "ad50c626",
   "metadata": {},
   "outputs": [],
   "source": [
    "df.Year.unique()"
   ]
  },
  {
   "cell_type": "markdown",
   "id": "eeb35ea5",
   "metadata": {},
   "source": [
    "We could represent these as 0, 1, 2, 3, and 4 as a variable that represents \"years from 2017\", so it is numeric."
   ]
  },
  {
   "cell_type": "code",
   "execution_count": null,
   "id": "e5dbd998",
   "metadata": {},
   "outputs": [],
   "source": [
    "df.Year.replace({2017: 0, 2018: 1, 2019: 2, 2020: 3, 2021: 4}, inplace = True)"
   ]
  },
  {
   "cell_type": "markdown",
   "id": "aeb2e72f",
   "metadata": {},
   "source": [
    "Let's convert time and date to date time objects and extract the minutes, hours, month, and day"
   ]
  },
  {
   "cell_type": "code",
   "execution_count": null,
   "id": "b6d93ce9",
   "metadata": {},
   "outputs": [],
   "source": [
    "df.Time = pd.to_datetime(df.Time, infer_datetime_format = True)\n",
    "df.Date = pd.to_datetime(df.Date, infer_datetime_format = True)"
   ]
  },
  {
   "cell_type": "code",
   "execution_count": null,
   "id": "70cca011",
   "metadata": {},
   "outputs": [],
   "source": [
    "df[\"month\"] = df.Date.dt.month\n",
    "df[\"day\"] = df.Date.dt.day\n",
    "df[\"hour\"] = df.Time.dt.hour\n",
    "df[\"minute\"] = df.Time.dt.minute # My guess is that we'll end up dropping this"
   ]
  },
  {
   "cell_type": "code",
   "execution_count": null,
   "id": "a0f73f5d",
   "metadata": {},
   "outputs": [],
   "source": [
    "# Drop Date and Time variables \n",
    "df.drop([\"Date\", \"Time\"], axis = 1, inplace = True)"
   ]
  },
  {
   "cell_type": "code",
   "execution_count": null,
   "id": "94578ddb",
   "metadata": {},
   "outputs": [],
   "source": [
    "# Now let's convert day of the week to numeric\n",
    "df[\"Day of Week\"].replace({\"Sunday\": 0, \"Monday\": 1, \"Tuesday\": 2, \"Wednesday\": 3, \"Thursday\": 4,\n",
    "                          \"Friday\": 5, \"Saturday\": 6}, inplace = True)"
   ]
  },
  {
   "cell_type": "code",
   "execution_count": null,
   "id": "7cb2f5ab",
   "metadata": {},
   "outputs": [],
   "source": [
    "df.head()"
   ]
  },
  {
   "cell_type": "markdown",
   "id": "581f4c3d",
   "metadata": {},
   "source": [
    "Let's figure out the target variable"
   ]
  },
  {
   "cell_type": "code",
   "execution_count": null,
   "id": "ab478c93",
   "metadata": {},
   "outputs": [],
   "source": [
    "df[\"Event Descriptor\"].unique()"
   ]
  },
  {
   "cell_type": "code",
   "execution_count": null,
   "id": "f22a3abb",
   "metadata": {},
   "outputs": [],
   "source": [
    "df[\"Crash Descriptor\"].unique()"
   ]
  },
  {
   "cell_type": "markdown",
   "id": "a1b3a12c",
   "metadata": {},
   "source": [
    "Maybe we just do classes from the descriptor variable? That would definitely be a lot easier. It seems like it would be pretty messy to deal with the event descriptor variable."
   ]
  },
  {
   "cell_type": "markdown",
   "id": "397d49f4",
   "metadata": {},
   "source": [
    "## Data Visualization"
   ]
  },
  {
   "cell_type": "markdown",
   "id": "f4e3e678",
   "metadata": {},
   "source": [
    "### Can do this chart but will have to put/run before dropping the time column"
   ]
  },
  {
   "cell_type": "code",
   "execution_count": null,
   "id": "ffe78066",
   "metadata": {},
   "outputs": [],
   "source": [
    "# Lineplot of accidents over time\n",
    "df.groupby('Year')['Time'].count().plot()\n",
    "plt.xlabel('Year')\n",
    "plt.ylabel('Number of Accidents')\n",
    "plt.title('Number of Accidents over Time')\n",
    "plt.show()"
   ]
  },
  {
   "cell_type": "markdown",
   "id": "c7eaa950",
   "metadata": {},
   "source": [
    "----------------------------------------------------------------------------"
   ]
  },
  {
   "cell_type": "code",
   "execution_count": null,
   "id": "99fc5762",
   "metadata": {},
   "outputs": [],
   "source": [
    "# Barplot of accidents per year\n",
    "counts = df['Year'].value_counts().sort_index()\n",
    "counts.plot.bar()\n",
    "plt.xlabel('Year')\n",
    "plt.ylabel('Count')\n",
    "plt.title('Accidents per Year')\n",
    "plt.show()"
   ]
  },
  {
   "cell_type": "code",
   "execution_count": null,
   "id": "262953b7",
   "metadata": {},
   "outputs": [],
   "source": [
    "# Barplot of accidents per week\n",
    "counts = df['Day of Week'].value_counts().sort_index()\n",
    "counts.plot.bar()\n",
    "plt.xlabel('Week Day')\n",
    "plt.ylabel('Count')\n",
    "plt.title('Accidents per Week Day')\n",
    "plt.show()"
   ]
  },
  {
   "cell_type": "code",
   "execution_count": null,
   "id": "1e36ccd5",
   "metadata": {},
   "outputs": [],
   "source": [
    "# Barplot of top 10 accidents per county\n",
    "counts = df['County Name'].value_counts().head(10)\n",
    "counts.plot.bar()\n",
    "plt.xlabel('County')\n",
    "plt.ylabel('Count')\n",
    "plt.title('Accidents per County')\n",
    "plt.show()"
   ]
  },
  {
   "cell_type": "code",
   "execution_count": null,
   "id": "73cafa46",
   "metadata": {},
   "outputs": [],
   "source": [
    "# Barplot of top 10 event decriptors\n",
    "counts = df['Event Descriptor'].value_counts().head(10)\n",
    "counts.plot.bar()\n",
    "plt.xlabel('Event Descriptor')\n",
    "plt.ylabel('Count')\n",
    "plt.title('Event Descriptor Counts')\n",
    "plt.show()"
   ]
  },
  {
   "cell_type": "code",
   "execution_count": null,
   "id": "da9e35ba",
   "metadata": {},
   "outputs": [],
   "source": [
    "# Barplot of about of accident descriptors\n",
    "counts = df['Crash Descriptor'].value_counts()\n",
    "counts.plot.bar()\n",
    "plt.xlabel('Accident Descriptor')\n",
    "plt.ylabel('Count')\n",
    "plt.title('Accident Descriptor Counts')\n",
    "plt.show()"
   ]
  },
  {
   "cell_type": "code",
   "execution_count": null,
   "id": "0fe53db5",
   "metadata": {},
   "outputs": [],
   "source": [
    "# Heatmap for crash descriptors per county\n",
    "matrix = data.pivot_table(values='Crash Descriptor', index='County Name', columns='Crash Descriptor', aggfunc=len, fill_value=0)\n",
    "\n",
    "sns.heatmap(matrix, cmap='Blues')\n",
    "plt.title('Crash Descriptor Counts by County')\n",
    "plt.xlabel('Crash Descriptor')\n",
    "plt.ylabel('County')\n",
    "plt.show()"
   ]
  },
  {
   "cell_type": "code",
   "execution_count": null,
   "id": "3f4681e9",
   "metadata": {},
   "outputs": [],
   "source": [
    "# Stacked barchart of lighting, weather, road surface, and traffice control device per accident description\n",
    "conditions = ['Lighting Conditions', 'Weather Conditions', 'Road Surface Conditions', 'Traffic Control Device']\n",
    "\n",
    "# Create a list of pivot tables and charts for each condition\n",
    "for condition in conditions:\n",
    "    pivot_table = df.pivot_table(index=condition, columns='Collision Type Descriptor', values='Year', aggfunc='count')\n",
    "    ax = pivot_table.plot(kind='bar', stacked=True, figsize=(10, 6))\n",
    "\n",
    "    ax.set_title(f'Distribution of Crash Types by {condition}')\n",
    "    ax.set_xlabel(condition)\n",
    "    ax.set_ylabel('Number of Accidents')\n",
    "    plt.show()"
   ]
  },
  {
   "cell_type": "markdown",
   "id": "3e74ecc8",
   "metadata": {},
   "source": [
    "Visualizations for machine learning portion: Confusion matrix, Precision-Recall Curve, possible Decision tree if applicable (Abbey can do)"
   ]
  },
  {
   "cell_type": "code",
   "execution_count": null,
   "id": "7edb7497",
   "metadata": {},
   "outputs": [],
   "source": []
  }
 ],
 "metadata": {
  "kernelspec": {
   "display_name": "Python 3 (ipykernel)",
   "language": "python",
   "name": "python3"
  },
  "language_info": {
   "codemirror_mode": {
    "name": "ipython",
    "version": 3
   },
   "file_extension": ".py",
   "mimetype": "text/x-python",
   "name": "python",
   "nbconvert_exporter": "python",
   "pygments_lexer": "ipython3",
   "version": "3.11.1"
  }
 },
 "nbformat": 4,
 "nbformat_minor": 5
}
